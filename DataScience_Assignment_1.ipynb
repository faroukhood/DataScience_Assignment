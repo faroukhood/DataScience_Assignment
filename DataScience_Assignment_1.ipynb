{
  "cells": [
    {
      "cell_type": "markdown",
      "metadata": {
        "id": "_XlRfez6LEOJ"
      },
      "source": [
        "Data_Science Assignment # 1:"
      ]
    },
    {
      "cell_type": "code",
      "execution_count": 1,
      "metadata": {
        "colab": {
          "base_uri": "https://localhost:8080/"
        },
        "id": "i9QcmVSDKxSi",
        "outputId": "24274180-0ee7-4b03-ff1a-ef7d680aa12c"
      },
      "outputs": [
        {
          "name": "stdout",
          "output_type": "stream",
          "text": [
            "Twinkle,twinkle,little star,\n",
            "\tHow I wonder what you are! \n",
            "\t\tUp above the world so high, \n",
            "\t\tLike a diamond in the sky.\n",
            "Twinkle, twinkle, little star,\n",
            "\tHow i wonder what you are\n"
          ]
        }
      ],
      "source": [
        "# Task 1:\n",
        "print(\"Twinkle,twinkle,little star,\\n\\tHow I wonder what you are! \\n\\t\\tUp above the world so high, \\n\\t\\tLike a diamond in the sky.\\nTwinkle, twinkle, little star,\\n\\tHow i wonder what you are\")"
      ]
    },
    {
      "cell_type": "markdown",
      "metadata": {
        "id": "EYEMRVroMGr1"
      },
      "source": [
        "Task#2"
      ]
    },
    {
      "cell_type": "code",
      "execution_count": 2,
      "metadata": {
        "colab": {
          "base_uri": "https://localhost:8080/"
        },
        "id": "bCnuVQboLqUx",
        "outputId": "6e82f6b6-3ddc-49b6-91f1-bfca8c0806dc"
      },
      "outputs": [
        {
          "name": "stdout",
          "output_type": "stream",
          "text": [
            "My version of python is  3.10.0 (tags/v3.10.0:b494f59, Oct  4 2021, 19:00:18) [MSC v.1929 64 bit (AMD64)]\n"
          ]
        }
      ],
      "source": [
        "import sys\n",
        "print(\"My version of python is \", sys.version)"
      ]
    },
    {
      "cell_type": "markdown",
      "metadata": {},
      "source": [
        "Task: 3"
      ]
    },
    {
      "cell_type": "code",
      "execution_count": 3,
      "metadata": {
        "id": "3kMmAf3dMcfr"
      },
      "outputs": [
        {
          "name": "stdout",
          "output_type": "stream",
          "text": [
            "current date and time  2021-12-31 13:01:57.234596\n"
          ]
        }
      ],
      "source": [
        "import datetime\n",
        "current_datetime = datetime.datetime.today()\n",
        "print(\"current date and time \", current_datetime)"
      ]
    },
    {
      "cell_type": "markdown",
      "metadata": {},
      "source": [
        "Task: 4"
      ]
    },
    {
      "cell_type": "code",
      "execution_count": 4,
      "metadata": {},
      "outputs": [
        {
          "name": "stdout",
          "output_type": "stream",
          "text": [
            "Area of a circle is  706.5\n"
          ]
        }
      ],
      "source": [
        "# Area = pi (radius)pow2\n",
        "from math import pi , pow\n",
        "Radius_user = input(\"Enter Your Radius!\")\n",
        "Area = (round(pi,2) * pow(int(Radius_user),2))\n",
        "print(\"Area of a circle is \", Area)\n"
      ]
    },
    {
      "cell_type": "markdown",
      "metadata": {},
      "source": [
        "Task: 5"
      ]
    },
    {
      "cell_type": "code",
      "execution_count": 5,
      "metadata": {},
      "outputs": [
        {
          "name": "stdout",
          "output_type": "stream",
          "text": [
            "Full name without Reverse =  Muhammad  Farooq\n",
            "full name with reverse =  Farooq  Muhammad\n"
          ]
        }
      ],
      "source": [
        "full_name = []\n",
        "first_name = input(\"Enter Your First Name!\")\n",
        "last_name = input(\"Enter your Last Name!\")\n",
        "full_name.append(first_name)\n",
        "full_name.append(last_name)\n",
        "print(\"Full name without Reverse = \", full_name[0],\"\",full_name[1])\n",
        "full_name.reverse()\n",
        "print(\"full name with reverse = \", full_name[0],\"\",full_name[1])"
      ]
    },
    {
      "cell_type": "markdown",
      "metadata": {},
      "source": [
        "Task: 6"
      ]
    },
    {
      "cell_type": "code",
      "execution_count": 6,
      "metadata": {},
      "outputs": [
        {
          "name": "stdout",
          "output_type": "stream",
          "text": [
            "Addition of two number =  9\n"
          ]
        }
      ],
      "source": [
        "input1 = int(input(\"Enter first Number!\"))\n",
        "input2 = int(input(\"Enter first Number!\"))\n",
        "Addition = input1 + input2\n",
        "print(\"Addition of two number = \",Addition)"
      ]
    },
    {
      "cell_type": "code",
      "execution_count": null,
      "metadata": {},
      "outputs": [],
      "source": []
    }
  ],
  "metadata": {
    "colab": {
      "name": "Untitled10.ipynb",
      "provenance": []
    },
    "kernelspec": {
      "display_name": "Python 3",
      "name": "python3"
    },
    "language_info": {
      "codemirror_mode": {
        "name": "ipython",
        "version": 3
      },
      "file_extension": ".py",
      "mimetype": "text/x-python",
      "name": "python",
      "nbconvert_exporter": "python",
      "pygments_lexer": "ipython3",
      "version": "3.10.0"
    }
  },
  "nbformat": 4,
  "nbformat_minor": 0
}
